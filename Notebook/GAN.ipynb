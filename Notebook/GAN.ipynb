{
 "cells": [
  {
   "cell_type": "markdown",
   "metadata": {
    "collapsed": true,
    "pycharm": {
     "name": "#%% md\n"
    }
   },
   "source": [
    "# Generation of Time series temperature data\n",
    "\n",
    "- Using TGAN or Time-Series Generative Adversiarial Networks we now try to produce more data\n",
    "- We implement an unsupervised adversarial loss on both real and synthetic data\n",
    "- We implement this with tensorflow 2\n",
    "- While in a Traditional GAN we will have a generator and a discriminator, here we also have recovery and embedder models."
   ]
  },
  {
   "cell_type": "markdown",
   "source": [
    "## Network\n",
    "- The 3 layer GRU nework has been used here, but we can also use an LSTM\n",
    "\n",
    "### Loading the data"
   ],
   "metadata": {
    "collapsed": false,
    "pycharm": {
     "name": "#%% md\n"
    }
   }
  },
  {
   "cell_type": "code",
   "execution_count": 8,
   "outputs": [
    {
     "name": "stdout",
     "output_type": "stream",
     "text": [
      "(100, 4)\n"
     ]
    }
   ],
   "source": [
    "# We load the data\n",
    "from abc import ABC\n",
    "\n",
    "import numpy as np\n",
    "import pandas as pd\n",
    "df = pd.read_csv('../data/feed1.csv')\n",
    "df = df.drop(columns='field5')\n",
    "\n",
    "df_main = pd.read_csv('../data/feed2.csv')\n",
    "df_main.rename(columns={'field1': 'external', 'field2':'internal'}, inplace=True)\n",
    "print(df_main.shape)"
   ],
   "metadata": {
    "collapsed": false,
    "pycharm": {
     "name": "#%%\n"
    }
   }
  },
  {
   "cell_type": "code",
   "execution_count": 9,
   "outputs": [],
   "source": [
    "from tensorflow.keras.layers import GRU, Dense, LSTM\n",
    "\n",
    "def make_net(model, n_layers, hidden_units, output_units, net_type='GRU'):\n",
    "    if net_type=='GRU':\n",
    "        for i in range(n_layers):\n",
    "            model.add(GRU(units=hidden_units,\n",
    "                      return_sequences=True,\n",
    "                      name=f'GRU_{i + 1}'))\n",
    "    else:\n",
    "        for i in range(n_layers):\n",
    "            model.add(LSTM(units=hidden_units,\n",
    "                      return_sequences=True,\n",
    "                      name=f'LSTM_{i + 1}'))\n",
    "\n",
    "    model.add(Dense(units=output_units,\n",
    "                    activation='sigmoid',\n",
    "                    name='OUT'))\n",
    "    return model"
   ],
   "metadata": {
    "collapsed": false,
    "pycharm": {
     "name": "#%%\n"
    }
   }
  },
  {
   "cell_type": "code",
   "execution_count": 11,
   "outputs": [],
   "source": [
    "from tensorflow.keras import Sequential, Input\n",
    "from tensorflow.keras import Model\n",
    "\n",
    "class Generator(Model):\n",
    "    def __init__(self, hidden_dim, net_type='GRU'):\n",
    "        self.hidden_dim = hidden_dim\n",
    "        self.net_type = net_type\n",
    "\n",
    "    def build(self, input_shape):\n",
    "        model = Sequential(name='Generator')\n",
    "        model.add(Input(shape=input_shape))\n",
    "        model = make_net(model,\n",
    "                         n_layers=3,\n",
    "                         hidden_units=self.hidden_dim,\n",
    "                         output_units=self.hidden_dim,\n",
    "                         net_type=self.net_type)\n",
    "        return model"
   ],
   "metadata": {
    "collapsed": false,
    "pycharm": {
     "name": "#%%\n"
    }
   }
  },
  {
   "cell_type": "code",
   "execution_count": 12,
   "outputs": [],
   "source": [
    "class Discriminator(Model):\n",
    "    def __init__(self, hidden_dim, net_type='GRU'):\n",
    "        self.hidden_dim = hidden_dim\n",
    "        self.net_type=net_type\n",
    "\n",
    "    def build(self, input_shape):\n",
    "        model = Sequential(name='Discriminator')\n",
    "        model = make_net(model,\n",
    "                         n_layers=3,\n",
    "                         hidden_units=self.hidden_dim,\n",
    "                         output_units=1,\n",
    "                         net_type=self.net_type)\n",
    "        return model"
   ],
   "metadata": {
    "collapsed": false,
    "pycharm": {
     "name": "#%%\n"
    }
   }
  },
  {
   "cell_type": "code",
   "execution_count": 13,
   "outputs": [],
   "source": [
    "class Recovery(Model):\n",
    "    def __init__(self, hidden_dim, n_seq):\n",
    "        self.hidden_dim=hidden_dim\n",
    "        self.n_seq=n_seq\n",
    "        return\n",
    "\n",
    "    def build(self, input_shape):\n",
    "        recovery = Sequential(name='Recovery')\n",
    "        recovery.add(Input(shape=input_shape, name='EmbeddedData'))\n",
    "        recovery = make_net(recovery,\n",
    "                            n_layers=3,\n",
    "                            hidden_units=self.hidden_dim,\n",
    "                            output_units=self.n_seq)\n",
    "        return recovery"
   ],
   "metadata": {
    "collapsed": false,
    "pycharm": {
     "name": "#%%\n"
    }
   }
  },
  {
   "cell_type": "code",
   "execution_count": 14,
   "outputs": [],
   "source": [
    "class Embedder(Model):\n",
    "\n",
    "    def __init__(self, hidden_dim):\n",
    "        self.hidden_dim=hidden_dim\n",
    "        return\n",
    "\n",
    "    def build(self, input_shape):\n",
    "        embedder = Sequential(name='Embedder')\n",
    "        embedder.add(Input(shape=input_shape, name='Data'))\n",
    "        embedder = make_net(embedder,\n",
    "                            n_layers=3,\n",
    "                            hidden_units=self.hidden_dim,\n",
    "                            output_units=self.hidden_dim)\n",
    "        return embedder"
   ],
   "metadata": {
    "collapsed": false,
    "pycharm": {
     "name": "#%%\n"
    }
   }
  },
  {
   "cell_type": "code",
   "execution_count": 15,
   "outputs": [],
   "source": [
    "class Supervisor(Model):\n",
    "    def __init__(self, hidden_dim):\n",
    "        self.hidden_dim=hidden_dim\n",
    "\n",
    "    def build(self, input_shape):\n",
    "        model = Sequential(name='Supervisor')\n",
    "        model.add(Input(shape=input_shape))\n",
    "        model = make_net(model,\n",
    "                         n_layers=2,\n",
    "                         hidden_units=self.hidden_dim,\n",
    "                         output_units=self.hidden_dim)\n",
    "        return model"
   ],
   "metadata": {
    "collapsed": false,
    "pycharm": {
     "name": "#%%\n"
    }
   }
  },
  {
   "cell_type": "code",
   "execution_count": 22,
   "outputs": [],
   "source": [
    "df_test = pd.read_csv('../data/feed2.csv')"
   ],
   "metadata": {
    "collapsed": false,
    "pycharm": {
     "name": "#%%\n"
    }
   }
  },
  {
   "cell_type": "code",
   "execution_count": 23,
   "outputs": [
    {
     "name": "stdout",
     "output_type": "stream",
     "text": [
      "0     104.8\n",
      "1     107.0\n",
      "2     117.3\n",
      "3     118.1\n",
      "4     118.4\n",
      "      ...  \n",
      "95    190.4\n",
      "96    190.7\n",
      "97    192.0\n",
      "98    192.9\n",
      "99    193.3\n",
      "Name: field2, Length: 100, dtype: float64 [104.8 107.  117.3 118.1 118.4 122.1 141.1 143.7 143.8 145.7 149.9 151.4\n",
      " 150.6 151.4 150.9 151.8 149.1 149.5 150.2 151.3 151.8 149.  149.3 150.3\n",
      " 151.3 150.6 151.3 149.4 151.1 154.9 148.9 151.3 152.1 149.3 150.1 149.5\n",
      " 151.2 149.5 152.1 149.  149.  151.5 151.7 156.7 151.3 150.6 150.8 149.5\n",
      " 153.5 149.1 149.1 150.  150.9 151.8 151.1 151.1 151.1 151.5 153.9 150.6\n",
      " 150.  151.9 149.7 150.5 151.3 149.7 151.6 150.6 151.8 150.  152.  152.7\n",
      " 152.5 153.4 158.  158.8 159.  160.8 161.1 161.2 163.  163.8 165.3 169.2\n",
      " 172.3 174.8 175.2 176.8 178.7 181.  181.3 181.4 183.7 186.2 188.8 190.4\n",
      " 190.7 192.  192.9 193.3]\n"
     ]
    }
   ],
   "source": [
    "randomArray = df_test['field2'].to_numpy()\n",
    "print(df_test['field2'], randomArray)"
   ],
   "metadata": {
    "collapsed": false,
    "pycharm": {
     "name": "#%%\n"
    }
   }
  },
  {
   "cell_type": "code",
   "execution_count": 26,
   "outputs": [],
   "source": [
    "import numpy as np\n",
    "def MinMaxScaler(data):\n",
    "    \"\"\"Min Max normalizer.\n",
    "\n",
    "    Args:\n",
    "      - data: original data\n",
    "\n",
    "    Returns:\n",
    "      - norm_data: normalized data\n",
    "    \"\"\"\n",
    "    numerator = data - np.min(data, 0)\n",
    "    denominator = np.max(data, 0) - np.min(data, 0)\n",
    "    norm_data = numerator / (denominator + 1e-7)\n",
    "    return norm_data"
   ],
   "metadata": {
    "collapsed": false,
    "pycharm": {
     "name": "#%%\n"
    }
   }
  },
  {
   "cell_type": "code",
   "execution_count": 27,
   "outputs": [],
   "source": [
    "norm_data = MinMaxScaler(randomArray)"
   ],
   "metadata": {
    "collapsed": false,
    "pycharm": {
     "name": "#%%\n"
    }
   }
  },
  {
   "cell_type": "code",
   "execution_count": 28,
   "outputs": [
    {
     "data": {
      "text/plain": "array([0.        , 0.02485876, 0.14124294, 0.15028249, 0.15367232,\n       0.19548023, 0.41016949, 0.43954802, 0.44067797, 0.46214689,\n       0.50960452, 0.52655367, 0.51751412, 0.52655367, 0.52090395,\n       0.53107345, 0.50056497, 0.50508475, 0.51299435, 0.52542373,\n       0.53107345, 0.49943503, 0.50282486, 0.51412429, 0.52542373,\n       0.51751412, 0.52542373, 0.5039548 , 0.52316384, 0.56610169,\n       0.49830508, 0.52542373, 0.53446328, 0.50282486, 0.51186441,\n       0.50508475, 0.52429378, 0.50508475, 0.53446328, 0.49943503,\n       0.49943503, 0.52768362, 0.5299435 , 0.58644068, 0.52542373,\n       0.51751412, 0.51977401, 0.50508475, 0.55028249, 0.50056497,\n       0.50056497, 0.51073446, 0.52090395, 0.53107345, 0.52316384,\n       0.52316384, 0.52316384, 0.52768362, 0.55480226, 0.51751412,\n       0.51073446, 0.53220339, 0.50734463, 0.51638418, 0.52542373,\n       0.50734463, 0.52881356, 0.51751412, 0.53107345, 0.51073446,\n       0.53333333, 0.54124294, 0.53898305, 0.54915254, 0.60112994,\n       0.61016949, 0.61242938, 0.63276836, 0.63615819, 0.63728813,\n       0.65762712, 0.66666667, 0.68361582, 0.72768361, 0.76271186,\n       0.79096045, 0.79548023, 0.81355932, 0.83502825, 0.86101695,\n       0.86440678, 0.86553672, 0.89152542, 0.91977401, 0.94915254,\n       0.96723164, 0.97062147, 0.98531073, 0.99548022, 1.        ])"
     },
     "execution_count": 28,
     "metadata": {},
     "output_type": "execute_result"
    }
   ],
   "source": [
    "norm_data\n"
   ],
   "metadata": {
    "collapsed": false,
    "pycharm": {
     "name": "#%%\n"
    }
   }
  },
  {
   "cell_type": "code",
   "execution_count": null,
   "outputs": [],
   "source": [],
   "metadata": {
    "collapsed": false,
    "pycharm": {
     "name": "#%%\n"
    }
   }
  }
 ],
 "metadata": {
  "kernelspec": {
   "display_name": "Python 3",
   "language": "python",
   "name": "python3"
  },
  "language_info": {
   "codemirror_mode": {
    "name": "ipython",
    "version": 2
   },
   "file_extension": ".py",
   "mimetype": "text/x-python",
   "name": "python",
   "nbconvert_exporter": "python",
   "pygments_lexer": "ipython2",
   "version": "2.7.6"
  }
 },
 "nbformat": 4,
 "nbformat_minor": 0
}